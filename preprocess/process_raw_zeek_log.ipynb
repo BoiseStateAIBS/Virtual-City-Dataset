{
 "cells": [
  {
   "cell_type": "code",
   "execution_count": 1,
   "metadata": {},
   "outputs": [],
   "source": [
    "import pandas as pd\n",
    "import gzip\n",
    "import glob\n",
    "import os\n",
    "import zipfile\n",
    "import json\n",
    "from pathlib import Path\n",
    "import pandas as pd\n",
    "import io\n",
    "from tqdm import tqdm\n",
    "import pytz\n",
    "\n",
    "# Specify the main directory for your logs (replace '/path/to/nsm/folder' with your actual path)\n",
    "log_dir = '../dataset/raw_zeek_logs/'\n",
    "output_dir = '../dataset/processed_logs/csvs/'  # Directory to save the daily CSV files\n",
    "output_dir_all = '../dataset/processed_logs/combined/'\n",
    "\n",
    "# Ensure the output directory exists\n",
    "os.makedirs(output_dir, exist_ok=True)\n",
    "os.makedirs(output_dir_all, exist_ok=True)\n",
    "\n",
    "\n",
    "\n"
   ]
  },
  {
   "cell_type": "markdown",
   "metadata": {},
   "source": [
    "#### Check logs "
   ]
  },
  {
   "cell_type": "code",
   "execution_count": 2,
   "metadata": {},
   "outputs": [],
   "source": [
    "# !zcat /home/bishal/projects/pentest_anomaly/sept_week_1/2024-09-01/broker.00:00:00-01:00:00.log.gz | less\n",
    "# !zcat /home/bishal/projects/pentest_anomaly/sept_week_1/2024-09-01/dns.00:00:00-01:00:00.log.gz | less\n",
    "# !zcat /home/bishal/projects/pentest_anomaly/sept_week_1/2024-09-01/ecat_arp_info.00:00:00-01:00:00.log.gz | less\n",
    "# # !zcat /home/bishal/projects/pentest_anomaly/sept_week_1/2024-09-01/enip.00:00:00-01:00:00.log.gz | less\n",
    "# !zcat /home/bishal/projects/pentest_anomaly/sept_week_1/2024-09-01/weird.00:00:00-01:00:00.log.gz | less\n",
    "# !zcat /home/bishal/projects/pentest_anomaly/sept_week_1/2024-09-01/notice.00:00:00-01:00:00.log.gz | less\n",
    "# # !zcat /home/bishal/projects/pentest_anomaly/sept_week_1/2024-09-01/conn.00:00:00-01:00:00.log.gz | less\n",
    "\n",
    "# !zcat /home/bishal/projects/pentest_anomaly/sept_week_1/2024-09-04/capture_loss.20:00:00-21:00:00.log.gz | less\n",
    "\n",
    "# !zcat /home/bishal/projects/pentest_anomaly/sept_week_1/2024-09-04/conn-summary.19:00:00-20:00:00.log.gz | less\n",
    "\n",
    "# !zcat /home/bishal/projects/pentest_anomaly/sept_week_1/2024-09-04/stats.20:00:00-21:00:00.log.gz | less\n",
    "\n",
    "# !zcat /home/bishal/projects/pentest_anomaly/sept_week_1/2024-09-04/known_services.19:06:34-20:00:00.log.gz | less\n",
    "\n",
    "\n",
    "\n",
    "\n",
    "# !zcat /home/bishal/projects/pentest_anomaly/sept_week_1/2024-09-04/dhcp.19:00:00-20:00:00.log.gz | less\n",
    "\n",
    "\n",
    "\n"
   ]
  },
  {
   "cell_type": "markdown",
   "metadata": {},
   "source": [
    "#### Extract log info"
   ]
  },
  {
   "cell_type": "code",
   "execution_count": 3,
   "metadata": {},
   "outputs": [],
   "source": [
    "log_types_dict = {\n",
    "    'broker': {\n",
    "        'columns': ['ts', 'ty', 'message', 'peer.address', 'peer.bound_port'],\n",
    "        'rename': {}\n",
    "    },\n",
    "    'conn': {\n",
    "        'columns':[\"ts\", \"uid\", \"id.orig_h\", \"id.orig_p\", \"id.resp_h\", \"id.resp_p\", \"proto\", \"conn_state\", \"local_orig\", \"local_resp\", \"missed_bytes\", \"history\", \"orig_pkts\", \"orig_ip_bytes\", \"resp_pkts\", \"resp_ip_bytes\", \"orig_mac_oui\", \"community_id\"],\n",
    "        'rename': {'id.orig_h': 'src_ip', 'id.orig_p': 'src_port', 'id.resp_h': 'dst_ip', 'id.resp_p': 'dst_port'}\n",
    "    },\n",
    "    'dns': {\n",
    "        'columns': [\"ts\", \"uid\", \"id.orig_h\", \"id.orig_p\", \"id.resp_h\", \"id.resp_p\", \"proto\", \"trans_id\", \"query\", \"qclass\", \"qclass_name\", \"qtype\", \"qtype_name\", \"rcode\", \"rcode_name\", \"AA\", \"TC\", \"RD\", \"RA\", \"Z\", \"answers\", \"TTLs\", \"rejected\"],\n",
    "        'rename': {'id.orig_h': 'src_ip', 'id.orig_p': 'src_port', 'id.resp_h': 'dst_ip', 'id.resp_p': 'dst_port'}\n",
    "    },\n",
    "    'ecat_arp_info': {\n",
    "        'columns': ['ts', 'mac_src', 'mac_dst', 'SPA', 'TPA', 'arp_type'],\n",
    "        'rename': {'SPA':'src_ip','TPA':'dst_ip'}\n",
    "    },\n",
    "    'enip': {\n",
    "         'columns': [\"ts\", \"uid\", \"id.orig_h\", \"id.orig_p\", \"id.resp_h\", \"id.resp_p\", \"is_orig\", \"enip_command_code\", \"enip_command\", \"length\", \"session_handle\", \"enip_status\", \"sender_context\", \"options\"],\n",
    "        'rename': {'id.orig_h': 'src_ip', 'id.orig_p': 'src_port', 'id.resp_h': 'dst_ip', 'id.resp_p': 'dst_port'}\n",
    "    },\n",
    "   \n",
    "    'weird': {\n",
    "        'columns': ['ts', 'uid', 'id.orig_h', 'id.resp_h', 'name', 'addl', 'notice'],\n",
    "        'rename': {'id.orig_h': 'src_ip', 'id.resp_h': 'dst_ip'}\n",
    "    },\n",
    "    'dhcp': {\n",
    "        'columns': [\"ts\", \"uids\", \"mac\", \"host_name\", \"requested_addr\", \"msg_types\", \"duration\", \"orig_mac_oui\"],\n",
    "        'rename': {'id.orig_h': 'src_ip', 'id.resp_h': 'dst_ip', 'client_addr': 'client_ip', 'server_addr': 'server_ip'}\n",
    "    }\n",
    "}"
   ]
  },
  {
   "cell_type": "code",
   "execution_count": 4,
   "metadata": {},
   "outputs": [],
   "source": [
    "def read_log(file_path, log_type):\n",
    "    with gzip.open(file_path, 'rt') as f:\n",
    "        # Skip Zeek log headers (starting with #)\n",
    "        lines = [line for line in f if not line.startswith('#')]\n",
    "        \n",
    "    data = [line.strip().split('\\t') for line in lines]\n",
    "    \n",
    "    data = [json.loads(item)for sublist in data for item in sublist]\n",
    "    \n",
    "    columns = log_types_dict[log_type][\"columns\"]\n",
    "    \n",
    "    df = pd.DataFrame(data, columns=columns)\n",
    "    \n",
    "    return df"
   ]
  },
  {
   "cell_type": "markdown",
   "metadata": {},
   "source": [
    "### Read the log files and convert them to csv"
   ]
  },
  {
   "cell_type": "code",
   "execution_count": 5,
   "metadata": {},
   "outputs": [
    {
     "name": "stderr",
     "output_type": "stream",
     "text": [
      "  0%|          | 0/24 [00:00<?, ?it/s]"
     ]
    },
    {
     "name": "stderr",
     "output_type": "stream",
     "text": [
      "100%|██████████| 24/24 [00:00<00:00, 167.82it/s]\n",
      "100%|██████████| 24/24 [00:00<00:00, 80.01it/s]\n",
      "100%|██████████| 24/24 [00:00<00:00, 55.18it/s]\n",
      "100%|██████████| 24/24 [00:00<00:00, 41.06it/s]\n",
      "100%|██████████| 25/25 [00:00<00:00, 30.77it/s]\n",
      "100%|██████████| 24/24 [00:00<00:00, 24.17it/s]\n",
      "100%|██████████| 24/24 [00:01<00:00, 20.13it/s]\n",
      "100%|██████████| 24/24 [00:00<00:00, 105.48it/s]\n",
      "100%|██████████| 24/24 [00:00<00:00, 45.63it/s]\n",
      "100%|██████████| 24/24 [00:02<00:00, 11.77it/s]\n",
      "100%|██████████| 24/24 [00:02<00:00,  8.76it/s]\n",
      "100%|██████████| 25/25 [00:03<00:00,  7.84it/s]\n",
      "100%|██████████| 24/24 [00:03<00:00,  6.86it/s]\n",
      "100%|██████████| 24/24 [00:03<00:00,  6.06it/s]\n",
      "100%|██████████| 24/24 [00:00<00:00, 291.37it/s]\n",
      "100%|██████████| 24/24 [00:00<00:00, 637.64it/s]\n",
      "100%|██████████| 24/24 [00:01<00:00, 12.97it/s]\n",
      "100%|██████████| 24/24 [00:03<00:00,  6.92it/s]\n",
      "100%|██████████| 24/24 [00:02<00:00,  9.28it/s]\n",
      "100%|██████████| 24/24 [00:02<00:00,  8.56it/s]\n",
      "100%|██████████| 24/24 [00:03<00:00,  6.35it/s]\n",
      "100%|██████████| 24/24 [00:00<00:00, 69.77it/s]\n",
      "100%|██████████| 24/24 [00:00<00:00, 60.16it/s]\n",
      "100%|██████████| 24/24 [00:01<00:00, 14.79it/s]\n",
      "100%|██████████| 24/24 [00:03<00:00,  7.65it/s]\n",
      "100%|██████████| 25/25 [00:03<00:00,  6.72it/s]\n",
      "100%|██████████| 24/24 [00:04<00:00,  5.77it/s]\n",
      "100%|██████████| 24/24 [00:05<00:00,  4.48it/s]\n",
      "100%|██████████| 2/2 [00:00<00:00, 16.52it/s]\n",
      "100%|██████████| 2/2 [00:00<00:00, 841.38it/s]\n",
      "100%|██████████| 3/3 [00:00<00:00, 829.35it/s]\n",
      "100%|██████████| 5/5 [00:00<00:00, 715.17it/s]\n",
      "100%|██████████| 2/2 [00:00<00:00, 619.27it/s]\n",
      "100%|██████████| 4/4 [00:00<00:00, 577.21it/s]\n",
      "100%|██████████| 4/4 [00:00<00:00, 502.82it/s]\n",
      "0it [00:00, ?it/s]\n",
      "0it [00:00, ?it/s]\n",
      "0it [00:00, ?it/s]\n",
      "100%|██████████| 1/1 [00:00<00:00, 1055.17it/s]\n",
      "100%|██████████| 1/1 [00:00<00:00, 860.90it/s]\n",
      "0it [00:00, ?it/s]\n",
      "0it [00:00, ?it/s]\n"
     ]
    }
   ],
   "source": [
    "data_types = [\"conn\",\"dns\",\"ecat_arp_info\",\"enip\",\"weird\",\"dhcp\"]\n",
    "\n",
    "for data_type in data_types:\n",
    "\n",
    "    pattern = f\"{data_type}.*.log.gz\"\n",
    "    for root, dirs, files in os.walk(log_dir):\n",
    "        all_df = []\n",
    "\n",
    "        if dirs:\n",
    "            for subdir in dirs:\n",
    "                output_path = os.path.join(output_dir,subdir)\n",
    "                if not os.path.exists(output_path):\n",
    "                    os.makedirs(output_path)\n",
    "                    \n",
    "                subdir_path = os.path.join(log_dir,subdir)\n",
    "                files = glob.glob(os.path.join(subdir_path, pattern))\n",
    "                for file in tqdm(files):\n",
    "                    df = read_log(file,data_type)\n",
    "                    all_df.append(df)\n",
    "                    df_day = pd.concat(all_df, axis=0, ignore_index=True)\n",
    "                    file_name = pattern.split(\".\")[0] + \".csv\"\n",
    "                    file_path = os.path.join(output_path,file_name)\n",
    "                \n",
    "                \n",
    "                df_day = df_day.rename(columns=log_types_dict[data_type][\"rename\"])\n",
    "                    \n",
    "                df_day.to_csv(file_path, index=False)\n",
    "\n"
   ]
  },
  {
   "cell_type": "markdown",
   "metadata": {},
   "source": [
    "### Create Benign and Malacious Data Files"
   ]
  },
  {
   "cell_type": "code",
   "execution_count": 6,
   "metadata": {},
   "outputs": [],
   "source": [
    "\n",
    "benign_dates = ['2024-09-01', '2024-09-02']\n",
    "columns_to_keep = ['ts', 'src_ip', 'dst_ip']\n",
    "\n",
    "all_df = pd.DataFrame(columns=columns_to_keep)\n",
    "\n",
    "for date_folder in os.listdir(output_dir):\n",
    "    date_folder_path = os.path.join(output_dir, date_folder)\n",
    "    \n",
    "    if os.path.isdir(date_folder_path) and date_folder.startswith('2024-09'):\n",
    "        for file_name in os.listdir(date_folder_path):\n",
    "            file_path = os.path.join(date_folder_path, file_name)\n",
    "            \n",
    "            if file_name.endswith('.csv'):\n",
    "                try:\n",
    "                    df = pd.read_csv(file_path, usecols=columns_to_keep)\n",
    "                except ValueError:\n",
    "                    continue\n",
    "                \n",
    "                all_df = pd.concat([all_df, df], ignore_index=True)\n",
    "                \n",
    "                "
   ]
  },
  {
   "cell_type": "code",
   "execution_count": 7,
   "metadata": {},
   "outputs": [],
   "source": [
    "all_df.dropna(inplace=True)"
   ]
  },
  {
   "cell_type": "code",
   "execution_count": 8,
   "metadata": {},
   "outputs": [
    {
     "name": "stdout",
     "output_type": "stream",
     "text": [
      "<class 'pandas.core.frame.DataFrame'>\n",
      "RangeIndex: 3736358 entries, 0 to 3736357\n",
      "Data columns (total 3 columns):\n",
      " #   Column  Dtype  \n",
      "---  ------  -----  \n",
      " 0   ts      float64\n",
      " 1   src_ip  object \n",
      " 2   dst_ip  object \n",
      "dtypes: float64(1), object(2)\n",
      "memory usage: 85.5+ MB\n"
     ]
    }
   ],
   "source": [
    "all_df.info()"
   ]
  },
  {
   "cell_type": "code",
   "execution_count": 9,
   "metadata": {},
   "outputs": [],
   "source": [
    "all_df.drop_duplicates(inplace=True)"
   ]
  },
  {
   "cell_type": "code",
   "execution_count": 10,
   "metadata": {},
   "outputs": [
    {
     "name": "stdout",
     "output_type": "stream",
     "text": [
      "<class 'pandas.core.frame.DataFrame'>\n",
      "Int64Index: 793952 entries, 0 to 3736356\n",
      "Data columns (total 3 columns):\n",
      " #   Column  Non-Null Count   Dtype  \n",
      "---  ------  --------------   -----  \n",
      " 0   ts      793952 non-null  float64\n",
      " 1   src_ip  793952 non-null  object \n",
      " 2   dst_ip  793952 non-null  object \n",
      "dtypes: float64(1), object(2)\n",
      "memory usage: 24.2+ MB\n"
     ]
    }
   ],
   "source": [
    "all_df.info()"
   ]
  },
  {
   "cell_type": "code",
   "execution_count": 11,
   "metadata": {},
   "outputs": [],
   "source": [
    "all_df = all_df.sort_values(by='ts')\n"
   ]
  },
  {
   "cell_type": "code",
   "execution_count": 12,
   "metadata": {},
   "outputs": [],
   "source": [
    "# Define MST timezone\n",
    "mst = pytz.timezone('US/Mountain')\n",
    "\n",
    "# Convert 'ts' column from Unix timestamp to MST date\n",
    "all_df['ts'] = pd.to_datetime(all_df['ts'], unit='s').dt.tz_localize('UTC').dt.tz_convert(mst)\n"
   ]
  },
  {
   "cell_type": "code",
   "execution_count": 13,
   "metadata": {},
   "outputs": [],
   "source": [
    "# Define the cutoff date\n",
    "start_date = pd.Timestamp('2024-09-01', tz=mst)\n",
    "end_date = pd.Timestamp('2024-09-04', tz=mst)\n",
    "\n",
    "# Filter the DataFrames\n",
    "benign_df = all_df[(all_df['ts'] >= start_date) & (all_df['ts'] <= end_date)]\n",
    "malicious_df = all_df[all_df['ts'] >= end_date]"
   ]
  },
  {
   "cell_type": "code",
   "execution_count": 14,
   "metadata": {},
   "outputs": [
    {
     "data": {
      "text/html": [
       "<div>\n",
       "<style scoped>\n",
       "    .dataframe tbody tr th:only-of-type {\n",
       "        vertical-align: middle;\n",
       "    }\n",
       "\n",
       "    .dataframe tbody tr th {\n",
       "        vertical-align: top;\n",
       "    }\n",
       "\n",
       "    .dataframe thead th {\n",
       "        text-align: right;\n",
       "    }\n",
       "</style>\n",
       "<table border=\"1\" class=\"dataframe\">\n",
       "  <thead>\n",
       "    <tr style=\"text-align: right;\">\n",
       "      <th></th>\n",
       "      <th>ts</th>\n",
       "      <th>src_ip</th>\n",
       "      <th>dst_ip</th>\n",
       "    </tr>\n",
       "  </thead>\n",
       "  <tbody>\n",
       "    <tr>\n",
       "      <th>50049</th>\n",
       "      <td>2024-09-01 00:00:21.112210944-06:00</td>\n",
       "      <td>192.168.57.9</td>\n",
       "      <td>224.0.0.251</td>\n",
       "    </tr>\n",
       "    <tr>\n",
       "      <th>50050</th>\n",
       "      <td>2024-09-01 00:00:21.114290944-06:00</td>\n",
       "      <td>fe80::33b2:2f9:4983:bf8e</td>\n",
       "      <td>ff02::fb</td>\n",
       "    </tr>\n",
       "    <tr>\n",
       "      <th>43179</th>\n",
       "      <td>2024-09-01 00:00:21.114968064-06:00</td>\n",
       "      <td>fe80::33b2:2f9:4983:bf8e</td>\n",
       "      <td>ff02::fb</td>\n",
       "    </tr>\n",
       "    <tr>\n",
       "      <th>43177</th>\n",
       "      <td>2024-09-01 00:00:21.114968064-06:00</td>\n",
       "      <td>192.168.57.9</td>\n",
       "      <td>224.0.0.251</td>\n",
       "    </tr>\n",
       "    <tr>\n",
       "      <th>43181</th>\n",
       "      <td>2024-09-01 00:00:21.377451008-06:00</td>\n",
       "      <td>192.168.57.9</td>\n",
       "      <td>224.0.0.251</td>\n",
       "    </tr>\n",
       "  </tbody>\n",
       "</table>\n",
       "</div>"
      ],
      "text/plain": [
       "                                       ts                    src_ip  \\\n",
       "50049 2024-09-01 00:00:21.112210944-06:00              192.168.57.9   \n",
       "50050 2024-09-01 00:00:21.114290944-06:00  fe80::33b2:2f9:4983:bf8e   \n",
       "43179 2024-09-01 00:00:21.114968064-06:00  fe80::33b2:2f9:4983:bf8e   \n",
       "43177 2024-09-01 00:00:21.114968064-06:00              192.168.57.9   \n",
       "43181 2024-09-01 00:00:21.377451008-06:00              192.168.57.9   \n",
       "\n",
       "            dst_ip  \n",
       "50049  224.0.0.251  \n",
       "50050     ff02::fb  \n",
       "43179     ff02::fb  \n",
       "43177  224.0.0.251  \n",
       "43181  224.0.0.251  "
      ]
     },
     "execution_count": 14,
     "metadata": {},
     "output_type": "execute_result"
    }
   ],
   "source": [
    "benign_df.head()"
   ]
  },
  {
   "cell_type": "code",
   "execution_count": 15,
   "metadata": {},
   "outputs": [
    {
     "data": {
      "text/html": [
       "<div>\n",
       "<style scoped>\n",
       "    .dataframe tbody tr th:only-of-type {\n",
       "        vertical-align: middle;\n",
       "    }\n",
       "\n",
       "    .dataframe tbody tr th {\n",
       "        vertical-align: top;\n",
       "    }\n",
       "\n",
       "    .dataframe thead th {\n",
       "        text-align: right;\n",
       "    }\n",
       "</style>\n",
       "<table border=\"1\" class=\"dataframe\">\n",
       "  <thead>\n",
       "    <tr style=\"text-align: right;\">\n",
       "      <th></th>\n",
       "      <th>ts</th>\n",
       "      <th>src_ip</th>\n",
       "      <th>dst_ip</th>\n",
       "    </tr>\n",
       "  </thead>\n",
       "  <tbody>\n",
       "    <tr>\n",
       "      <th>1061093</th>\n",
       "      <td>2024-09-03 23:58:51.216803072-06:00</td>\n",
       "      <td>192.168.57.4</td>\n",
       "      <td>192.168.255.255</td>\n",
       "    </tr>\n",
       "    <tr>\n",
       "      <th>1046900</th>\n",
       "      <td>2024-09-03 23:59:31.021046016-06:00</td>\n",
       "      <td>192.168.57.9</td>\n",
       "      <td>224.0.0.251</td>\n",
       "    </tr>\n",
       "    <tr>\n",
       "      <th>1046901</th>\n",
       "      <td>2024-09-03 23:59:31.021765120-06:00</td>\n",
       "      <td>fe80::33b2:2f9:4983:bf8e</td>\n",
       "      <td>ff02::fb</td>\n",
       "    </tr>\n",
       "    <tr>\n",
       "      <th>1046902</th>\n",
       "      <td>2024-09-03 23:59:32.031281920-06:00</td>\n",
       "      <td>192.168.57.9</td>\n",
       "      <td>224.0.0.251</td>\n",
       "    </tr>\n",
       "    <tr>\n",
       "      <th>1046903</th>\n",
       "      <td>2024-09-03 23:59:32.031625984-06:00</td>\n",
       "      <td>fe80::33b2:2f9:4983:bf8e</td>\n",
       "      <td>ff02::fb</td>\n",
       "    </tr>\n",
       "  </tbody>\n",
       "</table>\n",
       "</div>"
      ],
      "text/plain": [
       "                                         ts                    src_ip  \\\n",
       "1061093 2024-09-03 23:58:51.216803072-06:00              192.168.57.4   \n",
       "1046900 2024-09-03 23:59:31.021046016-06:00              192.168.57.9   \n",
       "1046901 2024-09-03 23:59:31.021765120-06:00  fe80::33b2:2f9:4983:bf8e   \n",
       "1046902 2024-09-03 23:59:32.031281920-06:00              192.168.57.9   \n",
       "1046903 2024-09-03 23:59:32.031625984-06:00  fe80::33b2:2f9:4983:bf8e   \n",
       "\n",
       "                  dst_ip  \n",
       "1061093  192.168.255.255  \n",
       "1046900      224.0.0.251  \n",
       "1046901         ff02::fb  \n",
       "1046902      224.0.0.251  \n",
       "1046903         ff02::fb  "
      ]
     },
     "execution_count": 15,
     "metadata": {},
     "output_type": "execute_result"
    }
   ],
   "source": [
    "benign_df.tail()"
   ]
  },
  {
   "cell_type": "code",
   "execution_count": 16,
   "metadata": {},
   "outputs": [
    {
     "data": {
      "text/html": [
       "<div>\n",
       "<style scoped>\n",
       "    .dataframe tbody tr th:only-of-type {\n",
       "        vertical-align: middle;\n",
       "    }\n",
       "\n",
       "    .dataframe tbody tr th {\n",
       "        vertical-align: top;\n",
       "    }\n",
       "\n",
       "    .dataframe thead th {\n",
       "        text-align: right;\n",
       "    }\n",
       "</style>\n",
       "<table border=\"1\" class=\"dataframe\">\n",
       "  <thead>\n",
       "    <tr style=\"text-align: right;\">\n",
       "      <th></th>\n",
       "      <th>ts</th>\n",
       "      <th>src_ip</th>\n",
       "      <th>dst_ip</th>\n",
       "    </tr>\n",
       "  </thead>\n",
       "  <tbody>\n",
       "    <tr>\n",
       "      <th>1061245</th>\n",
       "      <td>2024-09-04 00:00:21.241051904-06:00</td>\n",
       "      <td>192.168.57.10</td>\n",
       "      <td>192.168.255.255</td>\n",
       "    </tr>\n",
       "    <tr>\n",
       "      <th>1061243</th>\n",
       "      <td>2024-09-04 00:00:29.579170816-06:00</td>\n",
       "      <td>192.168.57.9</td>\n",
       "      <td>224.0.0.251</td>\n",
       "    </tr>\n",
       "    <tr>\n",
       "      <th>1061244</th>\n",
       "      <td>2024-09-04 00:00:29.581031168-06:00</td>\n",
       "      <td>fe80::33b2:2f9:4983:bf8e</td>\n",
       "      <td>ff02::fb</td>\n",
       "    </tr>\n",
       "    <tr>\n",
       "      <th>1047336</th>\n",
       "      <td>2024-09-04 00:00:29.581422080-06:00</td>\n",
       "      <td>192.168.57.9</td>\n",
       "      <td>224.0.0.251</td>\n",
       "    </tr>\n",
       "    <tr>\n",
       "      <th>1047338</th>\n",
       "      <td>2024-09-04 00:00:29.581625088-06:00</td>\n",
       "      <td>fe80::33b2:2f9:4983:bf8e</td>\n",
       "      <td>ff02::fb</td>\n",
       "    </tr>\n",
       "    <tr>\n",
       "      <th>...</th>\n",
       "      <td>...</td>\n",
       "      <td>...</td>\n",
       "      <td>...</td>\n",
       "    </tr>\n",
       "    <tr>\n",
       "      <th>3558148</th>\n",
       "      <td>2024-09-07 17:59:33.521572096-06:00</td>\n",
       "      <td>fe80::33b2:2f9:4983:bf8e</td>\n",
       "      <td>ff02::fb</td>\n",
       "    </tr>\n",
       "    <tr>\n",
       "      <th>3558149</th>\n",
       "      <td>2024-09-07 17:59:33.787298048-06:00</td>\n",
       "      <td>192.168.57.9</td>\n",
       "      <td>224.0.0.251</td>\n",
       "    </tr>\n",
       "    <tr>\n",
       "      <th>3558150</th>\n",
       "      <td>2024-09-07 17:59:33.787736832-06:00</td>\n",
       "      <td>fe80::33b2:2f9:4983:bf8e</td>\n",
       "      <td>ff02::fb</td>\n",
       "    </tr>\n",
       "    <tr>\n",
       "      <th>3558151</th>\n",
       "      <td>2024-09-07 17:59:33.788310016-06:00</td>\n",
       "      <td>192.168.57.9</td>\n",
       "      <td>224.0.0.251</td>\n",
       "    </tr>\n",
       "    <tr>\n",
       "      <th>3558152</th>\n",
       "      <td>2024-09-07 17:59:33.788398080-06:00</td>\n",
       "      <td>fe80::33b2:2f9:4983:bf8e</td>\n",
       "      <td>ff02::fb</td>\n",
       "    </tr>\n",
       "  </tbody>\n",
       "</table>\n",
       "<p>752164 rows × 3 columns</p>\n",
       "</div>"
      ],
      "text/plain": [
       "                                         ts                    src_ip  \\\n",
       "1061245 2024-09-04 00:00:21.241051904-06:00             192.168.57.10   \n",
       "1061243 2024-09-04 00:00:29.579170816-06:00              192.168.57.9   \n",
       "1061244 2024-09-04 00:00:29.581031168-06:00  fe80::33b2:2f9:4983:bf8e   \n",
       "1047336 2024-09-04 00:00:29.581422080-06:00              192.168.57.9   \n",
       "1047338 2024-09-04 00:00:29.581625088-06:00  fe80::33b2:2f9:4983:bf8e   \n",
       "...                                     ...                       ...   \n",
       "3558148 2024-09-07 17:59:33.521572096-06:00  fe80::33b2:2f9:4983:bf8e   \n",
       "3558149 2024-09-07 17:59:33.787298048-06:00              192.168.57.9   \n",
       "3558150 2024-09-07 17:59:33.787736832-06:00  fe80::33b2:2f9:4983:bf8e   \n",
       "3558151 2024-09-07 17:59:33.788310016-06:00              192.168.57.9   \n",
       "3558152 2024-09-07 17:59:33.788398080-06:00  fe80::33b2:2f9:4983:bf8e   \n",
       "\n",
       "                  dst_ip  \n",
       "1061245  192.168.255.255  \n",
       "1061243      224.0.0.251  \n",
       "1061244         ff02::fb  \n",
       "1047336      224.0.0.251  \n",
       "1047338         ff02::fb  \n",
       "...                  ...  \n",
       "3558148         ff02::fb  \n",
       "3558149      224.0.0.251  \n",
       "3558150         ff02::fb  \n",
       "3558151      224.0.0.251  \n",
       "3558152         ff02::fb  \n",
       "\n",
       "[752164 rows x 3 columns]"
      ]
     },
     "execution_count": 16,
     "metadata": {},
     "output_type": "execute_result"
    }
   ],
   "source": [
    "malicious_df"
   ]
  },
  {
   "cell_type": "code",
   "execution_count": 17,
   "metadata": {},
   "outputs": [],
   "source": [
    "# Save the DataFrames to CSV\n",
    "benign_df.to_csv(f'{output_dir_all}/benign.csv', index=False)\n",
    "malicious_df.to_csv(f'{output_dir_all}/malicious.csv', index=False)"
   ]
  },
  {
   "cell_type": "code",
   "execution_count": null,
   "metadata": {},
   "outputs": [],
   "source": []
  }
 ],
 "metadata": {
  "kernelspec": {
   "display_name": "myenv",
   "language": "python",
   "name": "python3"
  },
  "language_info": {
   "codemirror_mode": {
    "name": "ipython",
    "version": 3
   },
   "file_extension": ".py",
   "mimetype": "text/x-python",
   "name": "python",
   "nbconvert_exporter": "python",
   "pygments_lexer": "ipython3",
   "version": "3.10.12"
  }
 },
 "nbformat": 4,
 "nbformat_minor": 2
}
